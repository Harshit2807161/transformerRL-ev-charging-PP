{
 "cells": [
  {
   "cell_type": "code",
   "execution_count": 2,
   "id": "cabca00f-138d-487d-a771-70b3180aaa58",
   "metadata": {},
   "outputs": [],
   "source": [
    "from torch.utils.data import TensorDataset\n",
    "from torch.optim.lr_scheduler import ReduceLROnPlateau\n",
    "from transformers import InformerConfig, InformerModel, InformerForPrediction, AutoformerConfig, AutoformerForPrediction\n",
    "from transformers import AutoTokenizer\n",
    "from huggingface_hub import hf_hub_download\n",
    "import torch\n",
    "import pandas as pd\n",
    "import numpy as np\n",
    "import torch.nn as nn\n",
    "import torch.optim as optim\n",
    "from torch.utils.data import Dataset, DataLoader\n",
    "from sklearn.model_selection import train_test_split\n",
    "from sklearn.preprocessing import StandardScaler\n",
    "from sklearn.metrics import mean_squared_error, mean_absolute_error\n",
    "import matplotlib.pyplot as plt\n",
    "import seaborn as sns"
   ]
  },
  {
   "cell_type": "code",
   "execution_count": 3,
   "id": "1c026f8d-002e-400e-820d-2031b68a235e",
   "metadata": {},
   "outputs": [],
   "source": [
    "# Initializing an Informer configuration with 12 time steps for prediction\n",
    "configuration = InformerConfig(prediction_length=1, context_length=24, num_time_features=6, lags_sequence = [1, 2, 3, 4, 5, 6, 7, 8, 9, 10, 11, 12, 13, 14, 15, 16, 17, 18, 19, 20, 21, 22, 23, 24]\n",
    ")\n",
    "\n",
    "model = InformerForPrediction(configuration)"
   ]
  },
  {
   "cell_type": "code",
   "execution_count": 4,
   "id": "17f13ef1-0379-43df-8d18-a3e14586450f",
   "metadata": {},
   "outputs": [
    {
     "name": "stdout",
     "output_type": "stream",
     "text": [
      "6\n"
     ]
    }
   ],
   "source": [
    "print(configuration.num_time_features+configuration.num_dynamic_real_features)"
   ]
  },
  {
   "cell_type": "code",
   "execution_count": 5,
   "id": "858470b4-ad0f-441b-a8a8-85990a372a54",
   "metadata": {},
   "outputs": [
    {
     "name": "stdout",
     "output_type": "stream",
     "text": [
      "6\n"
     ]
    }
   ],
   "source": [
    "print(configuration.num_time_features)"
   ]
  },
  {
   "cell_type": "code",
   "execution_count": 6,
   "id": "6c44243c-ab3a-4fc1-b055-73aac66821b5",
   "metadata": {},
   "outputs": [
    {
     "data": {
      "text/plain": [
       "24"
      ]
     },
     "execution_count": 6,
     "metadata": {},
     "output_type": "execute_result"
    }
   ],
   "source": [
    "configuration.context_length"
   ]
  },
  {
   "cell_type": "code",
   "execution_count": 7,
   "id": "a297be9f-331a-4ef3-b195-7fb77fec8a3d",
   "metadata": {},
   "outputs": [
    {
     "data": {
      "text/plain": [
       "1"
      ]
     },
     "execution_count": 7,
     "metadata": {},
     "output_type": "execute_result"
    }
   ],
   "source": [
    "configuration.prediction_length"
   ]
  },
  {
   "cell_type": "code",
   "execution_count": 8,
   "id": "65f591a1-bbb7-4770-a6f2-6e898afcbb43",
   "metadata": {},
   "outputs": [
    {
     "name": "stdout",
     "output_type": "stream",
     "text": [
      "InformerConfig {\n",
      "  \"activation_dropout\": 0.1,\n",
      "  \"activation_function\": \"gelu\",\n",
      "  \"attention_dropout\": 0.1,\n",
      "  \"attention_type\": \"prob\",\n",
      "  \"cardinality\": [\n",
      "    0\n",
      "  ],\n",
      "  \"context_length\": 24,\n",
      "  \"d_model\": 64,\n",
      "  \"decoder_attention_heads\": 2,\n",
      "  \"decoder_ffn_dim\": 32,\n",
      "  \"decoder_layerdrop\": 0.1,\n",
      "  \"decoder_layers\": 2,\n",
      "  \"distil\": true,\n",
      "  \"distribution_output\": \"student_t\",\n",
      "  \"dropout\": 0.05,\n",
      "  \"embedding_dimension\": [\n",
      "    0\n",
      "  ],\n",
      "  \"encoder_attention_heads\": 2,\n",
      "  \"encoder_ffn_dim\": 32,\n",
      "  \"encoder_layerdrop\": 0.1,\n",
      "  \"encoder_layers\": 2,\n",
      "  \"feature_size\": 32,\n",
      "  \"init_std\": 0.02,\n",
      "  \"input_size\": 1,\n",
      "  \"is_encoder_decoder\": true,\n",
      "  \"lags_sequence\": [\n",
      "    1,\n",
      "    2,\n",
      "    3,\n",
      "    4,\n",
      "    5,\n",
      "    6,\n",
      "    7,\n",
      "    8,\n",
      "    9,\n",
      "    10,\n",
      "    11,\n",
      "    12,\n",
      "    13,\n",
      "    14,\n",
      "    15,\n",
      "    16,\n",
      "    17,\n",
      "    18,\n",
      "    19,\n",
      "    20,\n",
      "    21,\n",
      "    22,\n",
      "    23,\n",
      "    24\n",
      "  ],\n",
      "  \"loss\": \"nll\",\n",
      "  \"model_type\": \"informer\",\n",
      "  \"num_dynamic_real_features\": 0,\n",
      "  \"num_parallel_samples\": 100,\n",
      "  \"num_static_categorical_features\": 0,\n",
      "  \"num_static_real_features\": 0,\n",
      "  \"num_time_features\": 6,\n",
      "  \"prediction_length\": 1,\n",
      "  \"sampling_factor\": 5,\n",
      "  \"scaling\": \"mean\",\n",
      "  \"transformers_version\": \"4.31.0\",\n",
      "  \"use_cache\": true\n",
      "}\n",
      "\n"
     ]
    }
   ],
   "source": [
    "print(configuration)"
   ]
  },
  {
   "cell_type": "code",
   "execution_count": 9,
   "id": "7ffde7b5-d37f-44e4-80db-ed64ed247598",
   "metadata": {},
   "outputs": [
    {
     "data": {
      "text/plain": [
       "device(type='cpu')"
      ]
     },
     "execution_count": 9,
     "metadata": {},
     "output_type": "execute_result"
    }
   ],
   "source": [
    "device = torch.device(\"cpu\")\n",
    "device"
   ]
  },
  {
   "cell_type": "code",
   "execution_count": 10,
   "id": "5aee68f8-c898-4d24-90ae-5f3058fd2b25",
   "metadata": {},
   "outputs": [],
   "source": [
    "data = pd.read_csv(\"full.csv\")\n",
    "target_column = 'PRICE'  # Replace with the actual target column name"
   ]
  },
  {
   "cell_type": "code",
   "execution_count": 11,
   "id": "1710b2ee-2c4f-419c-b546-a5ac72aad696",
   "metadata": {},
   "outputs": [
    {
     "data": {
      "text/plain": [
       "Index(['TIME', 'PRICE'], dtype='object')"
      ]
     },
     "execution_count": 11,
     "metadata": {},
     "output_type": "execute_result"
    }
   ],
   "source": [
    "data.keys()"
   ]
  },
  {
   "cell_type": "code",
   "execution_count": 12,
   "id": "8ffc0ad7-f694-473a-8e55-1fb03e36222b",
   "metadata": {},
   "outputs": [
    {
     "name": "stdout",
     "output_type": "stream",
     "text": [
      "                  TIME  PRICE\n",
      "0     01-01-2017 00:00  22.11\n",
      "1     01-01-2017 01:00  21.30\n",
      "2     01-01-2017 02:00  21.00\n",
      "3     01-01-2017 03:00  20.56\n",
      "4     01-01-2017 04:00  20.62\n",
      "...                ...    ...\n",
      "8755  31-12-2017 19:00  51.80\n",
      "8756  31-12-2017 20:00  46.64\n",
      "8757  31-12-2017 21:00  41.45\n",
      "8758  31-12-2017 22:00  41.49\n",
      "8759  31-12-2017 23:00  31.42\n",
      "\n",
      "[8760 rows x 2 columns]\n"
     ]
    }
   ],
   "source": [
    "print(data)"
   ]
  },
  {
   "cell_type": "code",
   "execution_count": 13,
   "id": "0b50628b-5dc6-4059-b2ba-b44bdf6fb839",
   "metadata": {},
   "outputs": [],
   "source": [
    "# Convert 'TIME' column to datetime\n",
    "data['TIME'] = pd.to_datetime(data['TIME'], dayfirst=True)"
   ]
  },
  {
   "cell_type": "code",
   "execution_count": 14,
   "id": "9c553d69-5d33-4682-836a-8426ed786039",
   "metadata": {},
   "outputs": [],
   "source": [
    "# Sort the data based on time\n",
    "data = data.sort_values(by='TIME')"
   ]
  },
  {
   "cell_type": "code",
   "execution_count": 15,
   "id": "60b98e4e-387a-47ad-b330-a5ccb3bec385",
   "metadata": {},
   "outputs": [
    {
     "data": {
      "text/plain": [
       "(8760, 2)"
      ]
     },
     "execution_count": 15,
     "metadata": {},
     "output_type": "execute_result"
    }
   ],
   "source": [
    "data.shape"
   ]
  },
  {
   "cell_type": "code",
   "execution_count": 16,
   "id": "cf525b01-03ca-4eb2-881f-cb9ea383553b",
   "metadata": {},
   "outputs": [],
   "source": [
    "def create_time_features(data):\n",
    "    # Extract relevant temporal information\n",
    "    data['hour'] = data['TIME'].dt.hour\n",
    "    data['day_of_week'] = data['TIME'].dt.dayofweek\n",
    "    data['month'] = data['TIME'].dt.month\n",
    "    data['day'] = data['TIME'].dt.day\n",
    "    data['year'] = data['TIME'].dt.year\n",
    "\n",
    "    # Add is_weekend feature\n",
    "    data['is_weekend'] = data['day_of_week'].isin([5, 6]).astype(int)\n",
    "\n",
    "    # Drop the original timestamp and PRICE columns\n",
    "    data = data.drop(columns=['TIME', 'PRICE'])\n",
    "\n",
    "    return data.values\n",
    "\n",
    "\n",
    "# Assuming 'data' is your DataFrame\n",
    "past_time_features = create_time_features(data)\n"
   ]
  },
  {
   "cell_type": "code",
   "execution_count": 17,
   "id": "91014704-de22-43c6-9dd6-375f4c52ffc0",
   "metadata": {},
   "outputs": [
    {
     "data": {
      "text/plain": [
       "(8760, 6)"
      ]
     },
     "execution_count": 17,
     "metadata": {},
     "output_type": "execute_result"
    }
   ],
   "source": [
    "past_time_features.shape"
   ]
  },
  {
   "cell_type": "code",
   "execution_count": 18,
   "id": "5f99e832-2c44-4991-b21e-14e59837ddcf",
   "metadata": {},
   "outputs": [],
   "source": [
    "# Extract features and target\n",
    "features = data['PRICE'].values"
   ]
  },
  {
   "cell_type": "code",
   "execution_count": 19,
   "id": "7d8c1cb6-fb89-4bbf-be0d-8c7423be782a",
   "metadata": {},
   "outputs": [
    {
     "data": {
      "text/plain": [
       "(8760,)"
      ]
     },
     "execution_count": 19,
     "metadata": {},
     "output_type": "execute_result"
    }
   ],
   "source": [
    "features.shape"
   ]
  },
  {
   "cell_type": "code",
   "execution_count": 20,
   "id": "11c4aaab-621d-485f-b22b-11989c5bfe61",
   "metadata": {},
   "outputs": [],
   "source": [
    "# Split the data into train and validation sets\n",
    "train, val = train_test_split(features, test_size=0.2, shuffle=False)"
   ]
  },
  {
   "cell_type": "code",
   "execution_count": 21,
   "id": "214ebf96-f598-497e-8a9f-a4d7815f2616",
   "metadata": {},
   "outputs": [
    {
     "data": {
      "text/plain": [
       "(7008,)"
      ]
     },
     "execution_count": 21,
     "metadata": {},
     "output_type": "execute_result"
    }
   ],
   "source": [
    "train.shape"
   ]
  },
  {
   "cell_type": "code",
   "execution_count": 22,
   "id": "82cb6c15-008b-4383-a463-1040ab61ff3e",
   "metadata": {},
   "outputs": [
    {
     "data": {
      "text/plain": [
       "1752"
      ]
     },
     "execution_count": 22,
     "metadata": {},
     "output_type": "execute_result"
    }
   ],
   "source": [
    "val.shape[0]"
   ]
  },
  {
   "cell_type": "code",
   "execution_count": 23,
   "id": "73f8ffe8-a3d4-4f1d-b8e8-1ab32641c4ee",
   "metadata": {},
   "outputs": [],
   "source": [
    "time_train = past_time_features[:train.shape[0]]\n",
    "time_val = past_time_features[train.shape[0]:]"
   ]
  },
  {
   "cell_type": "code",
   "execution_count": 24,
   "id": "267626d7-c567-4f87-9804-70f030b90ccf",
   "metadata": {},
   "outputs": [
    {
     "data": {
      "text/plain": [
       "array([[   0,    6,    1,    1, 2017,    1],\n",
       "       [   1,    6,    1,    1, 2017,    1],\n",
       "       [   2,    6,    1,    1, 2017,    1],\n",
       "       ...,\n",
       "       [  21,    3,   10,   19, 2017,    0],\n",
       "       [  22,    3,   10,   19, 2017,    0],\n",
       "       [  23,    3,   10,   19, 2017,    0]])"
      ]
     },
     "execution_count": 24,
     "metadata": {},
     "output_type": "execute_result"
    }
   ],
   "source": [
    "time_train"
   ]
  },
  {
   "cell_type": "code",
   "execution_count": 25,
   "id": "24dd1c98-682c-496c-a025-d74639d29f01",
   "metadata": {},
   "outputs": [
    {
     "data": {
      "text/plain": [
       "(7008, 6)"
      ]
     },
     "execution_count": 25,
     "metadata": {},
     "output_type": "execute_result"
    }
   ],
   "source": [
    "time_train.shape"
   ]
  },
  {
   "cell_type": "code",
   "execution_count": 26,
   "id": "5d147cb3-8e25-4aba-b64d-2f9b2808c2d1",
   "metadata": {},
   "outputs": [
    {
     "data": {
      "text/plain": [
       "(1752, 6)"
      ]
     },
     "execution_count": 26,
     "metadata": {},
     "output_type": "execute_result"
    }
   ],
   "source": [
    "time_val.shape"
   ]
  },
  {
   "cell_type": "code",
   "execution_count": 27,
   "id": "7f553cef-1e63-424d-bf4b-cb2c66b3f7b3",
   "metadata": {},
   "outputs": [],
   "source": [
    "class TimeSeriesDataset(Dataset):\n",
    "    def __init__(self, price, time, sequence_length, context_length, prediction_length, target_column='PRICE'):\n",
    "        self.price = price\n",
    "        self.time = time\n",
    "        self.sequence_length = sequence_length\n",
    "        self.context_length = context_length\n",
    "        self.prediction_length = prediction_length\n",
    "        self.target_column = target_column\n",
    "\n",
    "    def __len__(self):\n",
    "        return len(self.price) - self.sequence_length\n",
    "\n",
    "    def __getitem__(self, idx):\n",
    "        x = self.price[idx:idx + self.sequence_length]\n",
    "        x = torch.tensor(np.asarray(x, dtype=np.float32), dtype=torch.float32)\n",
    "        xt = self.time[idx:idx + self.sequence_length]\n",
    "        xt = torch.tensor(np.asarray(xt, dtype=np.float32), dtype=torch.float32)\n",
    "        #y = self.y[idx + self.sequence_length:idx + 2*self.sequence_length]\n",
    "        y = self.price[idx + self.sequence_length]\n",
    "        y = torch.tensor(np.asarray(y, dtype=np.float32), dtype = torch.float32)\n",
    "        #yt = self.time[idx + self.sequence_length : idx + 2*self.sequence_length]\n",
    "        yt = self.time[idx + self.sequence_length]\n",
    "        yt = torch.tensor(np.asarray(yt, dtype=np.float32), dtype=torch.float32)\n",
    "        #mask = torch.ones([24], dtype=torch.bool)\n",
    "    \n",
    "        # x = x.to(device)\n",
    "        # t = t.to(device)\n",
    "        # y = y.to(device)\n",
    "        #mask = mask.to(device)\n",
    "        return x, y, xt, yt\n",
    "        "
   ]
  },
  {
   "cell_type": "code",
   "execution_count": 28,
   "id": "a9966672-69d9-45c9-8b2f-282fea857526",
   "metadata": {},
   "outputs": [],
   "source": [
    "train_dataset = TimeSeriesDataset(train, time_train, sequence_length=48, context_length=configuration.context_length, prediction_length=configuration.prediction_length)\n",
    "val_dataset = TimeSeriesDataset(val, time_val, sequence_length=48, context_length=configuration.context_length, prediction_length=configuration.prediction_length)"
   ]
  },
  {
   "cell_type": "code",
   "execution_count": 29,
   "id": "46567612-38fa-44dc-9f82-4bef921a9b50",
   "metadata": {},
   "outputs": [],
   "source": [
    "# DataLoader\n",
    "batch_size =256\n",
    "train_dataloader = DataLoader(train_dataset, batch_size=batch_size, shuffle=False)\n",
    "val_dataloader = DataLoader(val_dataset, batch_size=batch_size, shuffle=False)"
   ]
  },
  {
   "cell_type": "code",
   "execution_count": 30,
   "id": "ec460b4a-ffdf-42f9-94ac-f72ebf8733d7",
   "metadata": {},
   "outputs": [
    {
     "data": {
      "text/plain": [
       "InformerForPrediction(\n",
       "  (model): InformerModel(\n",
       "    (scaler): InformerMeanScaler()\n",
       "    (encoder): InformerEncoder(\n",
       "      (value_embedding): InformerValueEmbedding(\n",
       "        (value_projection): Linear(in_features=32, out_features=64, bias=False)\n",
       "      )\n",
       "      (embed_positions): InformerSinusoidalPositionalEmbedding(25, 64)\n",
       "      (layers): ModuleList(\n",
       "        (0-1): 2 x InformerEncoderLayer(\n",
       "          (self_attn): InformerProbSparseAttention(\n",
       "            (k_proj): Linear(in_features=64, out_features=64, bias=True)\n",
       "            (v_proj): Linear(in_features=64, out_features=64, bias=True)\n",
       "            (q_proj): Linear(in_features=64, out_features=64, bias=True)\n",
       "            (out_proj): Linear(in_features=64, out_features=64, bias=True)\n",
       "          )\n",
       "          (self_attn_layer_norm): LayerNorm((64,), eps=1e-05, elementwise_affine=True)\n",
       "          (activation_fn): GELUActivation()\n",
       "          (fc1): Linear(in_features=64, out_features=32, bias=True)\n",
       "          (fc2): Linear(in_features=32, out_features=64, bias=True)\n",
       "          (final_layer_norm): LayerNorm((64,), eps=1e-05, elementwise_affine=True)\n",
       "        )\n",
       "      )\n",
       "      (layernorm_embedding): LayerNorm((64,), eps=1e-05, elementwise_affine=True)\n",
       "      (conv_layers): ModuleList(\n",
       "        (0): InformerConvLayer(\n",
       "          (downConv): Conv1d(64, 64, kernel_size=(3,), stride=(1,), padding=(1,), padding_mode=circular)\n",
       "          (norm): BatchNorm1d(64, eps=1e-05, momentum=0.1, affine=True, track_running_stats=True)\n",
       "          (activation): ELU(alpha=1.0)\n",
       "          (maxPool): MaxPool1d(kernel_size=3, stride=2, padding=1, dilation=1, ceil_mode=False)\n",
       "        )\n",
       "        (1): None\n",
       "      )\n",
       "    )\n",
       "    (decoder): InformerDecoder(\n",
       "      (value_embedding): InformerValueEmbedding(\n",
       "        (value_projection): Linear(in_features=32, out_features=64, bias=False)\n",
       "      )\n",
       "      (embed_positions): InformerSinusoidalPositionalEmbedding(25, 64)\n",
       "      (layers): ModuleList(\n",
       "        (0-1): 2 x InformerDecoderLayer(\n",
       "          (self_attn): InformerProbSparseAttention(\n",
       "            (k_proj): Linear(in_features=64, out_features=64, bias=True)\n",
       "            (v_proj): Linear(in_features=64, out_features=64, bias=True)\n",
       "            (q_proj): Linear(in_features=64, out_features=64, bias=True)\n",
       "            (out_proj): Linear(in_features=64, out_features=64, bias=True)\n",
       "          )\n",
       "          (activation_fn): GELUActivation()\n",
       "          (self_attn_layer_norm): LayerNorm((64,), eps=1e-05, elementwise_affine=True)\n",
       "          (encoder_attn): InformerAttention(\n",
       "            (k_proj): Linear(in_features=64, out_features=64, bias=True)\n",
       "            (v_proj): Linear(in_features=64, out_features=64, bias=True)\n",
       "            (q_proj): Linear(in_features=64, out_features=64, bias=True)\n",
       "            (out_proj): Linear(in_features=64, out_features=64, bias=True)\n",
       "          )\n",
       "          (encoder_attn_layer_norm): LayerNorm((64,), eps=1e-05, elementwise_affine=True)\n",
       "          (fc1): Linear(in_features=64, out_features=32, bias=True)\n",
       "          (fc2): Linear(in_features=32, out_features=64, bias=True)\n",
       "          (final_layer_norm): LayerNorm((64,), eps=1e-05, elementwise_affine=True)\n",
       "        )\n",
       "      )\n",
       "      (layernorm_embedding): LayerNorm((64,), eps=1e-05, elementwise_affine=True)\n",
       "    )\n",
       "  )\n",
       "  (parameter_projection): ParameterProjection(\n",
       "    (proj): ModuleList(\n",
       "      (0-2): 3 x Linear(in_features=64, out_features=1, bias=True)\n",
       "    )\n",
       "    (domain_map): LambdaLayer()\n",
       "  )\n",
       ")"
      ]
     },
     "execution_count": 30,
     "metadata": {},
     "output_type": "execute_result"
    }
   ],
   "source": [
    "model.to(device)"
   ]
  },
  {
   "cell_type": "code",
   "execution_count": 31,
   "id": "af9dbde3-f0fb-44b9-adcc-52997479b94d",
   "metadata": {},
   "outputs": [],
   "source": [
    "# Define loss function and optimizer\n",
    "criterion = nn.MSELoss()\n",
    "optimizer = optim.Adam(model.parameters(), lr=1e-4)"
   ]
  },
  {
   "cell_type": "code",
   "execution_count": 32,
   "id": "b65b931f-2815-4984-9e06-d1a9087899d8",
   "metadata": {},
   "outputs": [
    {
     "data": {
      "text/plain": [
       "1"
      ]
     },
     "execution_count": 32,
     "metadata": {},
     "output_type": "execute_result"
    }
   ],
   "source": [
    "configuration.prediction_length"
   ]
  },
  {
   "cell_type": "code",
   "execution_count": 33,
   "id": "925650c2-d74d-4b59-82ae-e42398f278ee",
   "metadata": {},
   "outputs": [
    {
     "data": {
      "text/plain": [
       "InformerConfig {\n",
       "  \"activation_dropout\": 0.1,\n",
       "  \"activation_function\": \"gelu\",\n",
       "  \"attention_dropout\": 0.1,\n",
       "  \"attention_type\": \"prob\",\n",
       "  \"cardinality\": [\n",
       "    0\n",
       "  ],\n",
       "  \"context_length\": 24,\n",
       "  \"d_model\": 64,\n",
       "  \"decoder_attention_heads\": 2,\n",
       "  \"decoder_ffn_dim\": 32,\n",
       "  \"decoder_layerdrop\": 0.1,\n",
       "  \"decoder_layers\": 2,\n",
       "  \"distil\": true,\n",
       "  \"distribution_output\": \"student_t\",\n",
       "  \"dropout\": 0.05,\n",
       "  \"embedding_dimension\": [\n",
       "    0\n",
       "  ],\n",
       "  \"encoder_attention_heads\": 2,\n",
       "  \"encoder_ffn_dim\": 32,\n",
       "  \"encoder_layerdrop\": 0.1,\n",
       "  \"encoder_layers\": 2,\n",
       "  \"feature_size\": 32,\n",
       "  \"init_std\": 0.02,\n",
       "  \"input_size\": 1,\n",
       "  \"is_encoder_decoder\": true,\n",
       "  \"lags_sequence\": [\n",
       "    1,\n",
       "    2,\n",
       "    3,\n",
       "    4,\n",
       "    5,\n",
       "    6,\n",
       "    7,\n",
       "    8,\n",
       "    9,\n",
       "    10,\n",
       "    11,\n",
       "    12,\n",
       "    13,\n",
       "    14,\n",
       "    15,\n",
       "    16,\n",
       "    17,\n",
       "    18,\n",
       "    19,\n",
       "    20,\n",
       "    21,\n",
       "    22,\n",
       "    23,\n",
       "    24\n",
       "  ],\n",
       "  \"loss\": \"nll\",\n",
       "  \"model_type\": \"informer\",\n",
       "  \"num_dynamic_real_features\": 0,\n",
       "  \"num_parallel_samples\": 100,\n",
       "  \"num_static_categorical_features\": 0,\n",
       "  \"num_static_real_features\": 0,\n",
       "  \"num_time_features\": 6,\n",
       "  \"prediction_length\": 1,\n",
       "  \"sampling_factor\": 5,\n",
       "  \"scaling\": \"mean\",\n",
       "  \"transformers_version\": \"4.31.0\",\n",
       "  \"use_cache\": true\n",
       "}"
      ]
     },
     "execution_count": 33,
     "metadata": {},
     "output_type": "execute_result"
    }
   ],
   "source": [
    "configuration"
   ]
  },
  {
   "cell_type": "code",
   "execution_count": 34,
   "id": "873a11d2-1785-46fe-81be-719ee7a0ec22",
   "metadata": {},
   "outputs": [
    {
     "data": {
      "text/plain": [
       "48"
      ]
     },
     "execution_count": 34,
     "metadata": {},
     "output_type": "execute_result"
    }
   ],
   "source": [
    "configuration.context_length + max(configuration.lags_sequence)"
   ]
  },
  {
   "cell_type": "code",
   "execution_count": 35,
   "id": "2397b666-cc23-48ee-9817-d87e0501ad9e",
   "metadata": {},
   "outputs": [
    {
     "data": {
      "text/plain": [
       "InformerConfig {\n",
       "  \"activation_dropout\": 0.1,\n",
       "  \"activation_function\": \"gelu\",\n",
       "  \"attention_dropout\": 0.1,\n",
       "  \"attention_type\": \"prob\",\n",
       "  \"cardinality\": [\n",
       "    0\n",
       "  ],\n",
       "  \"context_length\": 24,\n",
       "  \"d_model\": 64,\n",
       "  \"decoder_attention_heads\": 2,\n",
       "  \"decoder_ffn_dim\": 32,\n",
       "  \"decoder_layerdrop\": 0.1,\n",
       "  \"decoder_layers\": 2,\n",
       "  \"distil\": true,\n",
       "  \"distribution_output\": \"student_t\",\n",
       "  \"dropout\": 0.05,\n",
       "  \"embedding_dimension\": [\n",
       "    0\n",
       "  ],\n",
       "  \"encoder_attention_heads\": 2,\n",
       "  \"encoder_ffn_dim\": 32,\n",
       "  \"encoder_layerdrop\": 0.1,\n",
       "  \"encoder_layers\": 2,\n",
       "  \"feature_size\": 32,\n",
       "  \"init_std\": 0.02,\n",
       "  \"input_size\": 1,\n",
       "  \"is_encoder_decoder\": true,\n",
       "  \"lags_sequence\": [\n",
       "    1,\n",
       "    2,\n",
       "    3,\n",
       "    4,\n",
       "    5,\n",
       "    6,\n",
       "    7,\n",
       "    8,\n",
       "    9,\n",
       "    10,\n",
       "    11,\n",
       "    12,\n",
       "    13,\n",
       "    14,\n",
       "    15,\n",
       "    16,\n",
       "    17,\n",
       "    18,\n",
       "    19,\n",
       "    20,\n",
       "    21,\n",
       "    22,\n",
       "    23,\n",
       "    24\n",
       "  ],\n",
       "  \"loss\": \"nll\",\n",
       "  \"model_type\": \"informer\",\n",
       "  \"num_dynamic_real_features\": 0,\n",
       "  \"num_parallel_samples\": 100,\n",
       "  \"num_static_categorical_features\": 0,\n",
       "  \"num_static_real_features\": 0,\n",
       "  \"num_time_features\": 6,\n",
       "  \"prediction_length\": 1,\n",
       "  \"sampling_factor\": 5,\n",
       "  \"scaling\": \"mean\",\n",
       "  \"transformers_version\": \"4.31.0\",\n",
       "  \"use_cache\": true\n",
       "}"
      ]
     },
     "execution_count": 35,
     "metadata": {},
     "output_type": "execute_result"
    }
   ],
   "source": [
    "configuration"
   ]
  },
  {
   "cell_type": "code",
   "execution_count": 36,
   "id": "17d26b84-a01f-4380-aaa9-6a085a0eb44c",
   "metadata": {},
   "outputs": [],
   "source": [
    "model_name = \"informer_part3.pt\"\n",
    "min_val_loss = 100\n",
    "best_epoch = 0\n",
    "do_train = False"
   ]
  },
  {
   "cell_type": "code",
   "execution_count": 37,
   "id": "9e68b96a-083e-478a-b17c-9f389d40cb20",
   "metadata": {
    "scrolled": true
   },
   "outputs": [],
   "source": [
    "if do_train:\n",
    "    # Training loop\n",
    "    num_epochs = 100\n",
    "    for epoch in range(num_epochs):\n",
    "        model.train()\n",
    "        total_loss = 0.0\n",
    "        for batch in train_dataloader:\n",
    "            pv, fv, ptf, ftf = batch\n",
    "            pv, fv, ptf, ftf = pv.to(device), fv.to(device), ptf.to(device), ftf.to(device)\n",
    "    \n",
    "            #pv = pv.squeeze()\n",
    "            fv = fv.unsqueeze(-1)\n",
    "            #past_values = past_values.squeeze()\n",
    "            #past_observed_mask = torch.ones_like(past_values)\n",
    "    \n",
    "            optimizer.zero_grad()\n",
    "    \n",
    "            #past_values.unsqueeze(1)\n",
    "            #past_observed_mask = past_observed_mask.squeeze(-1)\n",
    "            #past_observed_mask = past_observed_mask.unsqueeze(1)\n",
    "            pom = torch.ones_like(pv)\n",
    "            #fom = torch.ones_like(fv)\n",
    "    \n",
    "            ftf = ftf.view(ptf.shape[0], fv.shape[1], ptf.shape[2])\n",
    "    \n",
    "            #print(pv.shape)\n",
    "            #print(fv.shape)\n",
    "            #print(ptf.shape)\n",
    "            #print(ftf.shape)\n",
    "            #print(pom.shape)\n",
    "            \n",
    "            outputs = model(past_values=pv, past_time_features=ptf, past_observed_mask=pom, future_values=fv, future_time_features=ftf)  # Adding a batch dimension\n",
    "    \n",
    "            #print(outputs)\n",
    "            #print(outputs.size())\n",
    "            #print(fv.shape)\n",
    "            loss = outputs.loss\n",
    "            loss.backward()\n",
    "            optimizer.step()\n",
    "    \n",
    "            total_loss += loss.item()\n",
    "    \n",
    "        avg_train_loss = total_loss / len(train_dataloader)\n",
    "    \n",
    "        # Validation loop\n",
    "        model.eval()\n",
    "        val_loss = 0.0\n",
    "        with torch.no_grad():\n",
    "            for batch in val_dataloader:\n",
    "                pv, fv, ptf, ftf = batch\n",
    "                pv, fv, ptf, ftf = pv.to(device), fv.to(device), ptf.to(device), ftf.to(device)\n",
    "        \n",
    "                #pv = pv.squeeze()\n",
    "                fv = fv.unsqueeze(-1)\n",
    "                #past_values = past_values.squeeze()\n",
    "                #past_observed_mask = torch.ones_like(past_values)\n",
    "        \n",
    "                #optimizer.zero_grad()\n",
    "        \n",
    "                #past_values.unsqueeze(1)\n",
    "                #past_observed_mask = past_observed_mask.squeeze(-1)\n",
    "                #past_observed_mask = past_observed_mask.unsqueeze(1)\n",
    "                pom = torch.ones_like(pv)\n",
    "                #fom = torch.ones_like(fv)\n",
    "        \n",
    "                ftf = ftf.view(ptf.shape[0], fv.shape[1], ptf.shape[2])\n",
    "        \n",
    "                #print(pv.shape)\n",
    "                #print(fv.shape)\n",
    "                #print(ptf.shape)\n",
    "                #print(ftf.shape)\n",
    "                #print(pom.shape)\n",
    "                \n",
    "                outputs = model(past_values=pv, past_time_features=ptf, past_observed_mask=pom, future_values=fv, future_time_features=ftf)  # Adding a batch dimension\n",
    "        \n",
    "                #print(outputs)\n",
    "                #print(outputs.size())\n",
    "                #print(fv.shape)\n",
    "                loss = outputs.loss\n",
    "                \n",
    "                val_loss += loss.item()\n",
    "    \n",
    "        avg_val_loss = val_loss / len(val_dataloader)\n",
    "    \n",
    "        if ((min_val_loss - avg_val_loss) > 1e-4):\n",
    "            min_val_loss = avg_val_loss\n",
    "            best_epoch = epoch+1\n",
    "            torch.save(model.state_dict(), model_name)\n",
    "    \n",
    "        print(f\"Epoch : {epoch+1}\")\n",
    "        print(f\"Training Loss : {avg_train_loss}\")\n",
    "        print(f\"Validation Loss : {avg_val_loss}\")\n",
    "        print(\"\")\n",
    "        \n",
    "        model.load_state_dict(torch.load(model_name))\n",
    "    \n",
    "    print(f\"Best Epoch : {best_epoch}\")\n",
    "    print(f\"Best Validation Loss : {min_val_loss}\")\n",
    "    \n",
    "        #print(f'Epoch {epoch+1}/{num_epochs}, Train Loss: {avg_train_loss}, Val Loss: {avg_val_loss}')"
   ]
  },
  {
   "cell_type": "code",
   "execution_count": 38,
   "id": "800b07d4-c3b2-41bb-85bd-073223c9ffb1",
   "metadata": {},
   "outputs": [
    {
     "data": {
      "text/plain": [
       "<All keys matched successfully>"
      ]
     },
     "execution_count": 38,
     "metadata": {},
     "output_type": "execute_result"
    }
   ],
   "source": [
    "model.load_state_dict(torch.load(model_name, map_location=device))"
   ]
  },
  {
   "cell_type": "code",
   "execution_count": 39,
   "id": "902e9f06-84c5-453c-8490-664718481ddb",
   "metadata": {},
   "outputs": [],
   "source": [
    "# Function to plot attention heatmap\n",
    "def plot_attention_heatmap(attention_weights):\n",
    "    plt.figure(figsize=(10, 8))\n",
    "    sns.heatmap(attention_weights, cmap='viridis', xticklabels=False, yticklabels=False)\n",
    "    plt.xlabel('Time Steps')\n",
    "    plt.ylabel('Time Steps')\n",
    "    plt.title('Attention Heatmap')\n",
    "    plt.show()\n"
   ]
  },
  {
   "cell_type": "code",
   "execution_count": 40,
   "id": "ac7a938a-05e9-44ab-8bb7-31e92d42fae0",
   "metadata": {},
   "outputs": [],
   "source": [
    "# Function to plot attention heatmap for aggregated attention weights\n",
    "def plot_aggregated_attention_heatmap(attention_weights):\n",
    "    attention_weights = attention_weights.numpy()\n",
    "    aggregated_attention_weights = np.mean(attention_weights, axis=0)  # Compute mean across batches\n",
    "    plt.figure(figsize=(10, 8))\n",
    "    sns.heatmap(aggregated_attention_weights, cmap='viridis', xticklabels=False, yticklabels=False)\n",
    "    plt.xlabel('Time Steps')\n",
    "    plt.ylabel('Time Steps')\n",
    "    plt.title('Aggregated Attention Heatmap')\n",
    "    plt.show()"
   ]
  },
  {
   "cell_type": "code",
   "execution_count": 41,
   "id": "81642906-ffc7-4405-b69c-46e5a1bcaf56",
   "metadata": {},
   "outputs": [],
   "source": [
    "# Evaluation\n",
    "model.eval()\n",
    "all_predictions = []\n",
    "\n",
    "batch_size = val.shape[0]\n",
    "val_dataloader = DataLoader(val_dataset, batch_size=batch_size, shuffle=False)\n",
    "\n",
    "with torch.no_grad():\n",
    "    for batch in val_dataloader:\n",
    "        pv, fv, ptf, ftf = batch\n",
    "        pv, fv, ptf, ftf = pv.to(device), fv.to(device), ptf.to(device), ftf.to(device)\n",
    "    \n",
    "        #pv = pv.squeeze()\n",
    "        fv = fv.unsqueeze(-1)\n",
    "        #past_values = past_values.squeeze()\n",
    "        #past_observed_mask = torch.ones_like(past_values)\n",
    "    \n",
    "        #optimizer.zero_grad()\n",
    "    \n",
    "        #past_values.unsqueeze(1)\n",
    "        #past_observed_mask = past_observed_mask.squeeze(-1)\n",
    "        #past_observed_mask = past_observed_mask.unsqueeze(1)\n",
    "        pom = torch.ones_like(pv)\n",
    "        #fom = torch.ones_like(fv)\n",
    "    \n",
    "        ftf = ftf.view(ptf.shape[0], fv.shape[1], ptf.shape[2])\n",
    "    \n",
    "        #print(pv.shape)\n",
    "        #print(fv.shape)\n",
    "        #print(ptf.shape)\n",
    "        #print(ftf.shape)\n",
    "        #print(pom.shape)\n",
    "        \n",
    "        outputs = model.generate(past_values=pv, past_time_features=ptf, past_observed_mask=pom, future_time_features = ftf, output_attentions=True)  # Adding a batch dimension\n",
    "        #print(outputs)\n",
    "        output_attentions = model(past_values=pv, past_time_features=ptf, past_observed_mask=pom, future_time_features = ftf, output_attentions=True)  # Adding a batch dimension\n",
    "\n",
    "        mean_prediction = outputs.sequences.mean(dim=1)\n",
    "\n",
    "        all_predictions.extend(mean_prediction)\n",
    "\n",
    "# Inverse transform predictions to original scale\n",
    "#all_predictions = scaler.inverse_transform(np.array(all_predictions).reshape(-1, 1))"
   ]
  },
  {
   "cell_type": "code",
   "execution_count": 42,
   "id": "245361f3-2f63-4b9c-8623-8d301246702f",
   "metadata": {},
   "outputs": [
    {
     "name": "stdout",
     "output_type": "stream",
     "text": [
      "Shape of element 0: torch.Size([1704, 2, 20, 24])\n",
      "Shape of element 1: torch.Size([1704, 2, 12, 12])\n",
      "Shape of element 0: torch.Size([1704, 2, 0, 12])\n",
      "Shape of element 1: torch.Size([1704, 2, 0, 12])\n",
      "Shape of element 0: torch.Size([1704, 2, 0, 0])\n",
      "Shape of element 1: torch.Size([1704, 2, 0, 0])\n"
     ]
    }
   ],
   "source": [
    "encoder_attentions = output_attentions.encoder_attentions\n",
    "cross_attentions = output_attentions.cross_attentions\n",
    "decoder_attentions = output_attentions.decoder_attentions\n",
    "\n",
    "for i, arr in enumerate(encoder_attentions):\n",
    "    print(f\"Shape of element {i}: {arr.shape}\")\n",
    "for i, arr in enumerate(cross_attentions):\n",
    "    print(f\"Shape of element {i}: {arr.shape}\")\n",
    "for i, arr in enumerate(decoder_attentions):\n",
    "    print(f\"Shape of element {i}: {arr.shape}\")\n"
   ]
  },
  {
   "cell_type": "code",
   "execution_count": 43,
   "id": "43684e89-4847-4fa3-93b5-0ea5f88e1ed8",
   "metadata": {},
   "outputs": [
    {
     "data": {
      "text/plain": [
       "(tensor([[[[0.0417, 0.0417, 0.0417,  ..., 0.0417, 0.0417, 0.0417],\n",
       "           [0.0417, 0.0417, 0.0417,  ..., 0.0417, 0.0417, 0.0417],\n",
       "           [0.0417, 0.0417, 0.0417,  ..., 0.0417, 0.0417, 0.0417],\n",
       "           ...,\n",
       "           [0.0417, 0.0417, 0.0417,  ..., 0.0417, 0.0417, 0.0417],\n",
       "           [0.0417, 0.0417, 0.0417,  ..., 0.0417, 0.0417, 0.0417],\n",
       "           [0.0417, 0.0417, 0.0417,  ..., 0.0417, 0.0417, 0.0417]],\n",
       " \n",
       "          [[0.0417, 0.0417, 0.0417,  ..., 0.0417, 0.0417, 0.0417],\n",
       "           [0.0417, 0.0417, 0.0417,  ..., 0.0417, 0.0417, 0.0417],\n",
       "           [0.0417, 0.0417, 0.0417,  ..., 0.0417, 0.0417, 0.0417],\n",
       "           ...,\n",
       "           [0.0417, 0.0417, 0.0417,  ..., 0.0417, 0.0417, 0.0417],\n",
       "           [0.0417, 0.0417, 0.0417,  ..., 0.0417, 0.0417, 0.0417],\n",
       "           [0.0417, 0.0417, 0.0417,  ..., 0.0417, 0.0417, 0.0417]]],\n",
       " \n",
       " \n",
       "         [[[0.0417, 0.0417, 0.0417,  ..., 0.0417, 0.0417, 0.0417],\n",
       "           [0.0417, 0.0417, 0.0417,  ..., 0.0417, 0.0417, 0.0417],\n",
       "           [0.0417, 0.0417, 0.0417,  ..., 0.0417, 0.0417, 0.0417],\n",
       "           ...,\n",
       "           [0.0417, 0.0417, 0.0417,  ..., 0.0417, 0.0417, 0.0417],\n",
       "           [0.0417, 0.0417, 0.0417,  ..., 0.0417, 0.0417, 0.0417],\n",
       "           [0.0417, 0.0417, 0.0417,  ..., 0.0417, 0.0417, 0.0417]],\n",
       " \n",
       "          [[0.0417, 0.0417, 0.0417,  ..., 0.0417, 0.0417, 0.0417],\n",
       "           [0.0417, 0.0417, 0.0417,  ..., 0.0417, 0.0417, 0.0417],\n",
       "           [0.0417, 0.0417, 0.0417,  ..., 0.0417, 0.0417, 0.0417],\n",
       "           ...,\n",
       "           [0.0417, 0.0417, 0.0417,  ..., 0.0417, 0.0417, 0.0417],\n",
       "           [0.0417, 0.0417, 0.0417,  ..., 0.0417, 0.0417, 0.0417],\n",
       "           [0.0417, 0.0417, 0.0417,  ..., 0.0417, 0.0417, 0.0417]]],\n",
       " \n",
       " \n",
       "         [[[0.0417, 0.0417, 0.0417,  ..., 0.0417, 0.0417, 0.0417],\n",
       "           [0.0417, 0.0417, 0.0417,  ..., 0.0417, 0.0417, 0.0417],\n",
       "           [0.0417, 0.0417, 0.0417,  ..., 0.0417, 0.0417, 0.0417],\n",
       "           ...,\n",
       "           [0.0417, 0.0417, 0.0417,  ..., 0.0417, 0.0417, 0.0417],\n",
       "           [0.0417, 0.0417, 0.0417,  ..., 0.0417, 0.0417, 0.0417],\n",
       "           [0.0417, 0.0417, 0.0417,  ..., 0.0417, 0.0417, 0.0417]],\n",
       " \n",
       "          [[0.0417, 0.0417, 0.0417,  ..., 0.0417, 0.0417, 0.0417],\n",
       "           [0.0417, 0.0417, 0.0417,  ..., 0.0417, 0.0417, 0.0417],\n",
       "           [0.0417, 0.0417, 0.0417,  ..., 0.0417, 0.0417, 0.0417],\n",
       "           ...,\n",
       "           [0.0417, 0.0417, 0.0417,  ..., 0.0417, 0.0417, 0.0417],\n",
       "           [0.0417, 0.0417, 0.0417,  ..., 0.0417, 0.0417, 0.0417],\n",
       "           [0.0417, 0.0417, 0.0417,  ..., 0.0417, 0.0417, 0.0417]]],\n",
       " \n",
       " \n",
       "         ...,\n",
       " \n",
       " \n",
       "         [[[0.0417, 0.0417, 0.0417,  ..., 0.0417, 0.0417, 0.0417],\n",
       "           [0.0417, 0.0417, 0.0417,  ..., 0.0417, 0.0417, 0.0417],\n",
       "           [0.0417, 0.0417, 0.0417,  ..., 0.0417, 0.0417, 0.0417],\n",
       "           ...,\n",
       "           [0.0417, 0.0417, 0.0417,  ..., 0.0417, 0.0417, 0.0417],\n",
       "           [0.0417, 0.0417, 0.0417,  ..., 0.0417, 0.0417, 0.0417],\n",
       "           [0.0417, 0.0417, 0.0417,  ..., 0.0417, 0.0417, 0.0417]],\n",
       " \n",
       "          [[0.0417, 0.0417, 0.0417,  ..., 0.0417, 0.0417, 0.0417],\n",
       "           [0.0417, 0.0417, 0.0417,  ..., 0.0417, 0.0417, 0.0417],\n",
       "           [0.0417, 0.0417, 0.0417,  ..., 0.0417, 0.0417, 0.0417],\n",
       "           ...,\n",
       "           [0.0417, 0.0417, 0.0417,  ..., 0.0417, 0.0417, 0.0417],\n",
       "           [0.0417, 0.0417, 0.0417,  ..., 0.0417, 0.0417, 0.0417],\n",
       "           [0.0417, 0.0417, 0.0417,  ..., 0.0417, 0.0417, 0.0417]]],\n",
       " \n",
       " \n",
       "         [[[0.0417, 0.0417, 0.0417,  ..., 0.0417, 0.0417, 0.0417],\n",
       "           [0.0417, 0.0417, 0.0417,  ..., 0.0417, 0.0417, 0.0417],\n",
       "           [0.0417, 0.0417, 0.0417,  ..., 0.0417, 0.0417, 0.0417],\n",
       "           ...,\n",
       "           [0.0417, 0.0417, 0.0417,  ..., 0.0417, 0.0417, 0.0417],\n",
       "           [0.0417, 0.0417, 0.0417,  ..., 0.0417, 0.0417, 0.0417],\n",
       "           [0.0417, 0.0417, 0.0417,  ..., 0.0417, 0.0417, 0.0417]],\n",
       " \n",
       "          [[0.0417, 0.0417, 0.0417,  ..., 0.0417, 0.0417, 0.0417],\n",
       "           [0.0417, 0.0417, 0.0417,  ..., 0.0417, 0.0417, 0.0417],\n",
       "           [0.0417, 0.0417, 0.0417,  ..., 0.0417, 0.0417, 0.0417],\n",
       "           ...,\n",
       "           [0.0417, 0.0417, 0.0417,  ..., 0.0417, 0.0417, 0.0417],\n",
       "           [0.0417, 0.0417, 0.0417,  ..., 0.0417, 0.0417, 0.0417],\n",
       "           [0.0417, 0.0417, 0.0417,  ..., 0.0417, 0.0417, 0.0417]]],\n",
       " \n",
       " \n",
       "         [[[0.0417, 0.0417, 0.0417,  ..., 0.0417, 0.0417, 0.0417],\n",
       "           [0.0417, 0.0417, 0.0417,  ..., 0.0417, 0.0417, 0.0417],\n",
       "           [0.0417, 0.0417, 0.0417,  ..., 0.0417, 0.0417, 0.0417],\n",
       "           ...,\n",
       "           [0.0417, 0.0417, 0.0417,  ..., 0.0417, 0.0417, 0.0417],\n",
       "           [0.0417, 0.0417, 0.0417,  ..., 0.0417, 0.0417, 0.0417],\n",
       "           [0.0417, 0.0417, 0.0417,  ..., 0.0417, 0.0417, 0.0417]],\n",
       " \n",
       "          [[0.0417, 0.0417, 0.0417,  ..., 0.0417, 0.0417, 0.0417],\n",
       "           [0.0417, 0.0417, 0.0417,  ..., 0.0417, 0.0417, 0.0417],\n",
       "           [0.0417, 0.0417, 0.0417,  ..., 0.0417, 0.0417, 0.0417],\n",
       "           ...,\n",
       "           [0.0417, 0.0417, 0.0417,  ..., 0.0417, 0.0417, 0.0417],\n",
       "           [0.0417, 0.0417, 0.0417,  ..., 0.0417, 0.0417, 0.0417],\n",
       "           [0.0417, 0.0417, 0.0417,  ..., 0.0417, 0.0417, 0.0417]]]]),\n",
       " tensor([[[[0.0834, 0.0833, 0.0833,  ..., 0.0833, 0.0833, 0.0834],\n",
       "           [0.0834, 0.0833, 0.0833,  ..., 0.0833, 0.0833, 0.0834],\n",
       "           [0.0834, 0.0833, 0.0833,  ..., 0.0833, 0.0833, 0.0834],\n",
       "           ...,\n",
       "           [0.0834, 0.0833, 0.0833,  ..., 0.0833, 0.0833, 0.0834],\n",
       "           [0.0834, 0.0833, 0.0833,  ..., 0.0833, 0.0833, 0.0834],\n",
       "           [0.0833, 0.0833, 0.0833,  ..., 0.0833, 0.0833, 0.0834]],\n",
       " \n",
       "          [[0.0833, 0.0833, 0.0833,  ..., 0.0834, 0.0834, 0.0834],\n",
       "           [0.0833, 0.0833, 0.0833,  ..., 0.0834, 0.0834, 0.0834],\n",
       "           [0.0833, 0.0833, 0.0833,  ..., 0.0834, 0.0834, 0.0834],\n",
       "           ...,\n",
       "           [0.0833, 0.0833, 0.0833,  ..., 0.0833, 0.0833, 0.0834],\n",
       "           [0.0833, 0.0833, 0.0833,  ..., 0.0833, 0.0833, 0.0834],\n",
       "           [0.0833, 0.0833, 0.0833,  ..., 0.0833, 0.0833, 0.0834]]],\n",
       " \n",
       " \n",
       "         [[[0.0833, 0.0833, 0.0833,  ..., 0.0833, 0.0833, 0.0834],\n",
       "           [0.0833, 0.0833, 0.0833,  ..., 0.0833, 0.0833, 0.0834],\n",
       "           [0.0833, 0.0833, 0.0833,  ..., 0.0833, 0.0833, 0.0834],\n",
       "           ...,\n",
       "           [0.0833, 0.0833, 0.0833,  ..., 0.0833, 0.0833, 0.0834],\n",
       "           [0.0833, 0.0833, 0.0833,  ..., 0.0833, 0.0833, 0.0834],\n",
       "           [0.0833, 0.0833, 0.0833,  ..., 0.0833, 0.0833, 0.0834]],\n",
       " \n",
       "          [[0.0833, 0.0833, 0.0833,  ..., 0.0834, 0.0834, 0.0834],\n",
       "           [0.0833, 0.0833, 0.0833,  ..., 0.0834, 0.0834, 0.0834],\n",
       "           [0.0833, 0.0833, 0.0833,  ..., 0.0834, 0.0834, 0.0834],\n",
       "           ...,\n",
       "           [0.0833, 0.0833, 0.0833,  ..., 0.0833, 0.0833, 0.0834],\n",
       "           [0.0833, 0.0833, 0.0833,  ..., 0.0833, 0.0833, 0.0834],\n",
       "           [0.0833, 0.0833, 0.0833,  ..., 0.0833, 0.0833, 0.0834]]],\n",
       " \n",
       " \n",
       "         [[[0.0833, 0.0833, 0.0834,  ..., 0.0833, 0.0833, 0.0833],\n",
       "           [0.0833, 0.0833, 0.0834,  ..., 0.0833, 0.0833, 0.0833],\n",
       "           [0.0833, 0.0833, 0.0834,  ..., 0.0833, 0.0833, 0.0833],\n",
       "           ...,\n",
       "           [0.0833, 0.0833, 0.0834,  ..., 0.0833, 0.0833, 0.0833],\n",
       "           [0.0833, 0.0833, 0.0834,  ..., 0.0833, 0.0833, 0.0833],\n",
       "           [0.0833, 0.0833, 0.0834,  ..., 0.0833, 0.0833, 0.0833]],\n",
       " \n",
       "          [[0.0833, 0.0833, 0.0833,  ..., 0.0833, 0.0834, 0.0833],\n",
       "           [0.0833, 0.0833, 0.0833,  ..., 0.0834, 0.0834, 0.0833],\n",
       "           [0.0833, 0.0833, 0.0833,  ..., 0.0834, 0.0834, 0.0833],\n",
       "           ...,\n",
       "           [0.0833, 0.0833, 0.0833,  ..., 0.0833, 0.0834, 0.0833],\n",
       "           [0.0833, 0.0833, 0.0833,  ..., 0.0833, 0.0834, 0.0833],\n",
       "           [0.0833, 0.0833, 0.0833,  ..., 0.0833, 0.0834, 0.0833]]],\n",
       " \n",
       " \n",
       "         ...,\n",
       " \n",
       " \n",
       "         [[[0.0834, 0.0835, 0.0833,  ..., 0.0834, 0.0834, 0.0834],\n",
       "           [0.0834, 0.0835, 0.0832,  ..., 0.0834, 0.0834, 0.0834],\n",
       "           [0.0834, 0.0835, 0.0833,  ..., 0.0834, 0.0834, 0.0834],\n",
       "           ...,\n",
       "           [0.0834, 0.0834, 0.0833,  ..., 0.0834, 0.0834, 0.0834],\n",
       "           [0.0834, 0.0834, 0.0833,  ..., 0.0834, 0.0834, 0.0834],\n",
       "           [0.0834, 0.0834, 0.0833,  ..., 0.0834, 0.0834, 0.0834]],\n",
       " \n",
       "          [[0.0834, 0.0834, 0.0833,  ..., 0.0834, 0.0834, 0.0834],\n",
       "           [0.0834, 0.0834, 0.0833,  ..., 0.0834, 0.0834, 0.0834],\n",
       "           [0.0834, 0.0834, 0.0833,  ..., 0.0834, 0.0834, 0.0834],\n",
       "           ...,\n",
       "           [0.0834, 0.0833, 0.0833,  ..., 0.0833, 0.0833, 0.0833],\n",
       "           [0.0833, 0.0833, 0.0833,  ..., 0.0833, 0.0833, 0.0833],\n",
       "           [0.0833, 0.0833, 0.0833,  ..., 0.0833, 0.0833, 0.0833]]],\n",
       " \n",
       " \n",
       "         [[[0.0834, 0.0834, 0.0832,  ..., 0.0834, 0.0834, 0.0834],\n",
       "           [0.0834, 0.0834, 0.0832,  ..., 0.0834, 0.0834, 0.0834],\n",
       "           [0.0834, 0.0834, 0.0832,  ..., 0.0834, 0.0834, 0.0834],\n",
       "           ...,\n",
       "           [0.0834, 0.0833, 0.0833,  ..., 0.0834, 0.0834, 0.0834],\n",
       "           [0.0834, 0.0833, 0.0833,  ..., 0.0834, 0.0834, 0.0834],\n",
       "           [0.0834, 0.0833, 0.0833,  ..., 0.0834, 0.0834, 0.0834]],\n",
       " \n",
       "          [[0.0834, 0.0833, 0.0833,  ..., 0.0834, 0.0834, 0.0834],\n",
       "           [0.0834, 0.0833, 0.0833,  ..., 0.0834, 0.0834, 0.0834],\n",
       "           [0.0834, 0.0833, 0.0833,  ..., 0.0834, 0.0834, 0.0834],\n",
       "           ...,\n",
       "           [0.0833, 0.0833, 0.0833,  ..., 0.0833, 0.0833, 0.0833],\n",
       "           [0.0833, 0.0833, 0.0833,  ..., 0.0833, 0.0833, 0.0833],\n",
       "           [0.0833, 0.0833, 0.0833,  ..., 0.0833, 0.0833, 0.0833]]],\n",
       " \n",
       " \n",
       "         [[[0.0833, 0.0833, 0.0833,  ..., 0.0834, 0.0834, 0.0834],\n",
       "           [0.0833, 0.0833, 0.0832,  ..., 0.0834, 0.0834, 0.0834],\n",
       "           [0.0833, 0.0833, 0.0832,  ..., 0.0834, 0.0834, 0.0834],\n",
       "           ...,\n",
       "           [0.0833, 0.0833, 0.0833,  ..., 0.0834, 0.0834, 0.0834],\n",
       "           [0.0833, 0.0833, 0.0833,  ..., 0.0834, 0.0834, 0.0834],\n",
       "           [0.0833, 0.0833, 0.0833,  ..., 0.0834, 0.0834, 0.0834]],\n",
       " \n",
       "          [[0.0833, 0.0833, 0.0833,  ..., 0.0834, 0.0834, 0.0834],\n",
       "           [0.0833, 0.0833, 0.0833,  ..., 0.0834, 0.0834, 0.0834],\n",
       "           [0.0833, 0.0833, 0.0833,  ..., 0.0834, 0.0834, 0.0834],\n",
       "           ...,\n",
       "           [0.0833, 0.0833, 0.0833,  ..., 0.0833, 0.0834, 0.0834],\n",
       "           [0.0833, 0.0833, 0.0833,  ..., 0.0833, 0.0833, 0.0833],\n",
       "           [0.0833, 0.0833, 0.0833,  ..., 0.0833, 0.0833, 0.0833]]]]))"
      ]
     },
     "execution_count": 43,
     "metadata": {},
     "output_type": "execute_result"
    }
   ],
   "source": [
    "encoder_attentions"
   ]
  },
  {
   "cell_type": "code",
   "execution_count": 45,
   "id": "823d5bb3-49fc-4d19-b013-c1a38f362c41",
   "metadata": {},
   "outputs": [
    {
     "data": {
      "image/png": "[encoded data removed]",
      "text/plain": [
       "<Figure size 1000x800 with 2 Axes>"
      ]
     },
     "metadata": {},
     "output_type": "display_data"
    },
    {
     "data": {
      "image/png": "[encoded data removed]",
      "text/plain": [
       "<Figure size 1000x800 with 2 Axes>"
      ]
     },
     "metadata": {},
     "output_type": "display_data"
    }
   ],
   "source": [
    "for layer, attention_tensor in enumerate(encoder_attentions):\n",
    "    # Reshape the tensor for easier visualization\n",
    "    attention_array = attention_tensor.cpu().detach().numpy()  # Convert to numpy array\n",
    "    \n",
    "    # Take the mean along the specified dimensions\n",
    "    attention_mean = attention_array.mean(axis=(0, 1))  # Take mean along num_heads and batch_size dimensions\n",
    "    \n",
    "    # Plotting the heatmap for the average attention weights\n",
    "    plt.figure(figsize=(10, 8))\n",
    "    sns.heatmap(attention_mean, cmap='viridis')\n",
    "    plt.title(f'Encoder Layer {layer+1} Average Attention Heatmap')\n",
    "    plt.xlabel('Source Sequence')\n",
    "    plt.ylabel('Target Sequence')\n",
    "    plt.savefig(f'Informer_Modified_{layer+1}.png')\n",
    "    plt.show()"
   ]
  },
  {
   "cell_type": "code",
   "execution_count": 138,
   "id": "782b9681-cb45-4f2b-82aa-c72ac6a83962",
   "metadata": {},
   "outputs": [
    {
     "name": "stdout",
     "output_type": "stream",
     "text": [
      "Root Mean Squared Error (RMSE): 6.042252238216245\n",
      "Mean Absolute Error (MAE): 4.4919810431216245\n"
     ]
    }
   ],
   "source": [
    "true_values = val[-len(all_predictions):]\n",
    "# Calculate RMSE\n",
    "rmse = np.sqrt(mean_squared_error(true_values, all_predictions))\n",
    "mae = mean_absolute_error(true_values, all_predictions)\n",
    "print(f'Root Mean Squared Error (RMSE): {rmse}')\n",
    "print(f'Mean Absolute Error (MAE): {mae}')"
   ]
  },
  {
   "cell_type": "code",
   "execution_count": 128,
   "id": "0f831d5a-235d-4980-b971-0133aded38da",
   "metadata": {},
   "outputs": [
    {
     "data": {
      "image/png": "[encoded data removed]",
      "text/plain": [
       "<Figure size 1200x600 with 1 Axes>"
      ]
     },
     "metadata": {},
     "output_type": "display_data"
    }
   ],
   "source": [
    "# Plot true values vs predicted values\n",
    "plt.figure(figsize=(12, 6))\n",
    "plt.plot(true_values, label='True Values', color='blue')\n",
    "plt.plot(all_predictions, label='Predicted Values', color='red')\n",
    "plt.xlabel('Time Steps')\n",
    "plt.ylabel('Price')\n",
    "plt.title('True Values vs Predicted Values(Informer Modified)')\n",
    "plt.legend()\n",
    "plt.savefig('Informer_modified.png')\n",
    "plt.show()\n"
   ]
  },
  {
   "cell_type": "code",
   "execution_count": null,
   "id": "5895d331-689e-41d5-9c45-5260245f4c54",
   "metadata": {},
   "outputs": [],
   "source": []
  }
 ],
 "metadata": {
  "kernelspec": {
   "display_name": "Python 3 (ipykernel)",
   "language": "python",
   "name": "python3"
  },
  "language_info": {
   "codemirror_mode": {
    "name": "ipython",
    "version": 3
   },
   "file_extension": ".py",
   "mimetype": "text/x-python",
   "name": "python",
   "nbconvert_exporter": "python",
   "pygments_lexer": "ipython3",
   "version": "3.10.12"
  }
 },
 "nbformat": 4,
 "nbformat_minor": 5
}
